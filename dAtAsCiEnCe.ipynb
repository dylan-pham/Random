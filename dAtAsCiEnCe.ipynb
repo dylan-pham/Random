{
  "nbformat": 4,
  "nbformat_minor": 0,
  "metadata": {
    "colab": {
      "name": "dAtAsCiEnCe.ipynb",
      "version": "0.3.2",
      "provenance": [],
      "include_colab_link": true
    },
    "kernelspec": {
      "name": "python3",
      "display_name": "Python 3"
    }
  },
  "cells": [
    {
      "cell_type": "markdown",
      "metadata": {
        "id": "view-in-github",
        "colab_type": "text"
      },
      "source": [
        "<a href=\"https://colab.research.google.com/github/dylan-pham/Random/blob/master/dAtAsCiEnCe.ipynb\" target=\"_parent\"><img src=\"https://colab.research.google.com/assets/colab-badge.svg\" alt=\"Open In Colab\"/></a>"
      ]
    },
    {
      "cell_type": "code",
      "metadata": {
        "id": "rayugf4MLg4O",
        "colab_type": "code",
        "colab": {}
      },
      "source": [
        "import pandas\n",
        "data = pandas.read_csv('17-Jul-2019-T_CAPmeta.csv')"
      ],
      "execution_count": 0,
      "outputs": []
    },
    {
      "cell_type": "code",
      "metadata": {
        "id": "8pFRDVP-L45N",
        "colab_type": "code",
        "colab": {}
      },
      "source": [
        "# How does the percent of flights going to \"warmer climates\" during winter compare to the percent overall of flights headed to warmer climates\n",
        "# we define warmer climates as climates with a KOPPEN value less than 41"
      ],
      "execution_count": 0,
      "outputs": []
    },
    {
      "cell_type": "code",
      "metadata": {
        "id": "tb1zwFbfSwam",
        "colab_type": "code",
        "colab": {}
      },
      "source": [
        "relevant_data = data.loc[:, ['MONTH', 'KOPPEN', 'LON_deg', 'LAT_deg']]"
      ],
      "execution_count": 0,
      "outputs": []
    },
    {
      "cell_type": "code",
      "metadata": {
        "id": "KdtAY9vaWocb",
        "colab_type": "code",
        "colab": {}
      },
      "source": [
        "winter_data = relevant_data.loc[(relevant_data['MONTH'] == 1) | \n",
        "                                (relevant_data['MONTH'] == 2) | \n",
        "                                (relevant_data['MONTH'] == 12)]\n",
        "\n",
        "warm_data = winter_data.loc[relevant_data['KOPPEN'] < 41]\n",
        "\n",
        "cold_data = winter_data.loc[relevant_data['KOPPEN'] >= 41]"
      ],
      "execution_count": 0,
      "outputs": []
    },
    {
      "cell_type": "code",
      "metadata": {
        "id": "BRCbF_90YP9w",
        "colab_type": "code",
        "outputId": "4a550041-f269-4a36-9cae-83a5844bfbbf",
        "colab": {
          "base_uri": "https://localhost:8080/",
          "height": 76
        }
      },
      "source": [
        "warm_temp_vals = relevant_data.loc[relevant_data['KOPPEN'] < 41].count()\n",
        "cold_temp_vals = relevant_data.loc[relevant_data['KOPPEN'] >= 41].count()\n",
        "\n",
        "print(f'{warm_temp_vals[0]/cold_temp_vals[0]} times as much travel to warmer climates during winter.')"
      ],
      "execution_count": 55,
      "outputs": [
        {
          "output_type": "stream",
          "text": [
            "10.121646069563 times as much travel to warmer climates during winter.\n"
          ],
          "name": "stdout"
        }
      ]
    },
    {
      "cell_type": "code",
      "metadata": {
        "id": "6Aw7JGnqhgVH",
        "colab_type": "code",
        "colab": {}
      },
      "source": [
        "import matplotlib as mpl\n",
        "from matplotlib import pyplot as plt #pyplot is a subpackage of matplotlib, and provides the interface that we'll use to create plots\n",
        "plt.style.use('seaborn-whitegrid') # set default visual appearance"
      ],
      "execution_count": 0,
      "outputs": []
    },
    {
      "cell_type": "code",
      "metadata": {
        "id": "cj1o4RpXPabG",
        "colab_type": "code",
        "outputId": "a4380a46-fc59-4e41-cc9f-54a785c727c2",
        "colab": {
          "base_uri": "https://localhost:8080/",
          "height": 390
        }
      },
      "source": [
        "fig = plt.figure()\n",
        "ax = fig.add_axes([0,0,1,1])\n",
        "\n",
        "x_winter_data = warm_data['LON_deg']\n",
        "y_winter_data = warm_data['LAT_deg']\n",
        "\n",
        "x_relevant_data = cold_data['LON_deg']\n",
        "y_relevant_data = cold_data['LAT_deg']\n",
        "\n",
        "ax.plot(x_relevant_data, y_relevant_data, marker='.', linestyle='')\n",
        "ax.plot(x_winter_data, y_winter_data, marker='.', linestyle='')\n",
        "\n",
        "ax.legend(['cold places', 'warm places'])"
      ],
      "execution_count": 58,
      "outputs": [
        {
          "output_type": "execute_result",
          "data": {
            "text/plain": [
              "<matplotlib.legend.Legend at 0x7fac96883940>"
            ]
          },
          "metadata": {
            "tags": []
          },
          "execution_count": 58
        },
        {
          "output_type": "display_data",
          "data": {
            "image/png": "[encoded data removed]",
            "text/plain": [
              "<Figure size 432x288 with 1 Axes>"
            ]
          },
          "metadata": {
            "tags": []
          }
        }
      ]
    }
  ]
}