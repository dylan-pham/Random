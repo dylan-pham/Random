{
  "nbformat": 4,
  "nbformat_minor": 0,
  "metadata": {
    "colab": {
      "name": "dAtAsCiEnCe.ipynb",
      "version": "0.3.2",
      "provenance": [],
      "include_colab_link": true
    },
    "kernelspec": {
      "name": "python3",
      "display_name": "Python 3"
    }
  },
  "cells": [
    {
      "cell_type": "markdown",
      "metadata": {
        "id": "view-in-github",
        "colab_type": "text"
      },
      "source": [
        "<a href=\"https://colab.research.google.com/github/dylan-pham/Random/blob/master/dAtAsCiEnCe.ipynb\" target=\"_parent\"><img src=\"https://colab.research.google.com/assets/colab-badge.svg\" alt=\"Open In Colab\"/></a>"
      ]
    },
    {
      "cell_type": "code",
      "metadata": {
        "id": "rayugf4MLg4O",
        "colab_type": "code",
        "colab": {}
      },
      "source": [
        "import pandas\n",
        "data = pandas.read_csv('17-Jul-2019-T_CAPmeta.csv')"
      ],
      "execution_count": 0,
      "outputs": []
    },
    {
      "cell_type": "code",
      "metadata": {
        "id": "8pFRDVP-L45N",
        "colab_type": "code",
        "colab": {}
      },
      "source": [
        "# How does the percent of flights going to \"warmer climates\" during winter compare to the percent overall of flights headed to warmer climates\n",
        "# we define warmer climates as climates with a KOPPEN value less than 41"
      ],
      "execution_count": 0,
      "outputs": []
    },
    {
      "cell_type": "code",
      "metadata": {
        "id": "tb1zwFbfSwam",
        "colab_type": "code",
        "colab": {}
      },
      "source": [
        "relevant_data = data.loc[:, ['MONTH', 'KOPPEN']]"
      ],
      "execution_count": 0,
      "outputs": []
    },
    {
      "cell_type": "code",
      "metadata": {
        "id": "KdtAY9vaWocb",
        "colab_type": "code",
        "colab": {
          "base_uri": "https://localhost:8080/",
          "height": 76
        },
        "outputId": "2e99c00f-965d-4153-c439-fd6bd9120877"
      },
      "source": [
        "winter_data = relevant_data.loc[(relevant_data['MONTH'] == 1) | \n",
        "                                (relevant_data['MONTH'] == 2) | \n",
        "                                (relevant_data['MONTH'] == 12)]\n",
        "\n",
        "total_vals = relevant_data['KOPPEN'].count()"
      ],
      "execution_count": 9,
      "outputs": [
        {
          "output_type": "execute_result",
          "data": {
            "text/plain": [
              "436469"
            ]
          },
          "metadata": {
            "tags": []
          },
          "execution_count": 9
        }
      ]
    },
    {
      "cell_type": "code",
      "metadata": {
        "id": "BRCbF_90YP9w",
        "colab_type": "code",
        "colab": {
          "base_uri": "https://localhost:8080/",
          "height": 110
        },
        "outputId": "11c6bf0b-ef3b-4d92-8768-99d441a5db10"
      },
      "source": [
        "warm_temp_vals = relevant_data.loc[relevant_data['KOPPEN'] < 41].count()\n",
        "\n",
        "percentage = warm_temp_vals/total_vals # travels to warm climates\n",
        "\n",
        "percentage"
      ],
      "execution_count": 8,
      "outputs": [
        {
          "output_type": "execute_result",
          "data": {
            "text/plain": [
              "MONTH     0.910085\n",
              "KOPPEN    0.910085\n",
              "dtype: float64"
            ]
          },
          "metadata": {
            "tags": []
          },
          "execution_count": 8
        }
      ]
    },
    {
      "cell_type": "code",
      "metadata": {
        "id": "cj1o4RpXPabG",
        "colab_type": "code",
        "outputId": "77efeafe-9848-40e5-c33c-8da792ab6c78",
        "colab": {
          "base_uri": "https://localhost:8080/",
          "height": 362
        }
      },
      "source": [
        "data.plot(x='LON_deg', y='LAT_deg', kind='scatter')"
      ],
      "execution_count": 0,
      "outputs": [
        {
          "output_type": "execute_result",
          "data": {
            "text/plain": [
              "<matplotlib.axes._subplots.AxesSubplot at 0x7f5f2d15db38>"
            ]
          },
          "metadata": {
            "tags": []
          },
          "execution_count": 8
        },
        {
          "output_type": "display_data",
          "data": {
            "image/png": "[encoded data removed]",
            "text/plain": [
              "<Figure size 432x288 with 1 Axes>"
            ]
          },
          "metadata": {
            "tags": []
          }
        }
      ]
    },
    {
      "cell_type": "code",
      "metadata": {
        "id": "IbZwZCxfQd4D",
        "colab_type": "code",
        "colab": {}
      },
      "source": [
        ""
      ],
      "execution_count": 0,
      "outputs": []
    }
  ]
}